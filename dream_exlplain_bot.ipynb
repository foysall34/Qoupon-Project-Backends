{
  "nbformat": 4,
  "nbformat_minor": 0,
  "metadata": {
    "colab": {
      "provenance": []
    },
    "kernelspec": {
      "name": "python3",
      "display_name": "Python 3"
    },
    "language_info": {
      "name": "python"
    }
  },
  "cells": [
    {
      "cell_type": "code",
      "source": [
        "# Step 0: Install required packages\n",
        "!pip install requests transformers"
      ],
      "metadata": {
        "colab": {
          "base_uri": "https://localhost:8080/"
        },
        "id": "lyvD03M6bcpK",
        "outputId": "ba1fca4f-3a98-48a3-b7e5-f2c4ae7f86eb"
      },
      "execution_count": null,
      "outputs": [
        {
          "output_type": "stream",
          "name": "stdout",
          "text": [
            "Requirement already satisfied: requests in /usr/local/lib/python3.11/dist-packages (2.32.3)\n",
            "Requirement already satisfied: transformers in /usr/local/lib/python3.11/dist-packages (4.55.0)\n",
            "Requirement already satisfied: charset-normalizer<4,>=2 in /usr/local/lib/python3.11/dist-packages (from requests) (3.4.3)\n",
            "Requirement already satisfied: idna<4,>=2.5 in /usr/local/lib/python3.11/dist-packages (from requests) (3.10)\n",
            "Requirement already satisfied: urllib3<3,>=1.21.1 in /usr/local/lib/python3.11/dist-packages (from requests) (2.5.0)\n",
            "Requirement already satisfied: certifi>=2017.4.17 in /usr/local/lib/python3.11/dist-packages (from requests) (2025.8.3)\n",
            "Requirement already satisfied: filelock in /usr/local/lib/python3.11/dist-packages (from transformers) (3.18.0)\n",
            "Requirement already satisfied: huggingface-hub<1.0,>=0.34.0 in /usr/local/lib/python3.11/dist-packages (from transformers) (0.34.4)\n",
            "Requirement already satisfied: numpy>=1.17 in /usr/local/lib/python3.11/dist-packages (from transformers) (2.0.2)\n",
            "Requirement already satisfied: packaging>=20.0 in /usr/local/lib/python3.11/dist-packages (from transformers) (25.0)\n",
            "Requirement already satisfied: pyyaml>=5.1 in /usr/local/lib/python3.11/dist-packages (from transformers) (6.0.2)\n",
            "Requirement already satisfied: regex!=2019.12.17 in /usr/local/lib/python3.11/dist-packages (from transformers) (2024.11.6)\n",
            "Requirement already satisfied: tokenizers<0.22,>=0.21 in /usr/local/lib/python3.11/dist-packages (from transformers) (0.21.4)\n",
            "Requirement already satisfied: safetensors>=0.4.3 in /usr/local/lib/python3.11/dist-packages (from transformers) (0.6.2)\n",
            "Requirement already satisfied: tqdm>=4.27 in /usr/local/lib/python3.11/dist-packages (from transformers) (4.67.1)\n",
            "Requirement already satisfied: fsspec>=2023.5.0 in /usr/local/lib/python3.11/dist-packages (from huggingface-hub<1.0,>=0.34.0->transformers) (2025.3.0)\n",
            "Requirement already satisfied: typing-extensions>=3.7.4.3 in /usr/local/lib/python3.11/dist-packages (from huggingface-hub<1.0,>=0.34.0->transformers) (4.14.1)\n",
            "Requirement already satisfied: hf-xet<2.0.0,>=1.1.3 in /usr/local/lib/python3.11/dist-packages (from huggingface-hub<1.0,>=0.34.0->transformers) (1.1.7)\n"
          ]
        }
      ]
    },
    {
      "cell_type": "code",
      "source": [
        "%pip install -q -U \"google-genai>=1.0.0\""
      ],
      "metadata": {
        "colab": {
          "base_uri": "https://localhost:8080/"
        },
        "id": "nRoJlOoOiVJw",
        "outputId": "c01dcb3e-1c38-44c4-ac77-48cc1eb8142c"
      },
      "execution_count": null,
      "outputs": [
        {
          "output_type": "stream",
          "name": "stdout",
          "text": [
            "\u001b[?25l     \u001b[90m━━━━━━━━━━━━━━━━━━━━━━━━━━━━━━━━━━━━━━━━\u001b[0m \u001b[32m0.0/43.1 kB\u001b[0m \u001b[31m?\u001b[0m eta \u001b[36m-:--:--\u001b[0m\r\u001b[2K     \u001b[90m━━━━━━━━━━━━━━━━━━━━━━━━━━━━━━━━━━━━━━━━\u001b[0m \u001b[32m43.1/43.1 kB\u001b[0m \u001b[31m2.8 MB/s\u001b[0m eta \u001b[36m0:00:00\u001b[0m\n",
            "\u001b[?25h\u001b[?25l   \u001b[90m━━━━━━━━━━━━━━━━━━━━━━━━━━━━━━━━━━━━━━━━\u001b[0m \u001b[32m0.0/229.3 kB\u001b[0m \u001b[31m?\u001b[0m eta \u001b[36m-:--:--\u001b[0m\r\u001b[2K   \u001b[90m━━━━━━━━━━━━━━━━━━━━━━━━━━━━━━━━━━━━━━━━\u001b[0m \u001b[32m229.3/229.3 kB\u001b[0m \u001b[31m16.3 MB/s\u001b[0m eta \u001b[36m0:00:00\u001b[0m\n",
            "\u001b[?25h"
          ]
        }
      ]
    },
    {
      "cell_type": "code",
      "execution_count": null,
      "metadata": {
        "colab": {
          "base_uri": "https://localhost:8080/"
        },
        "id": "2_xmUZz8Ktar",
        "outputId": "5ad896ef-8f77-4591-91b5-59a910dd1c22"
      },
      "outputs": [
        {
          "output_type": "stream",
          "name": "stdout",
          "text": [
            "Requirement already satisfied: requests in /usr/local/lib/python3.11/dist-packages (2.32.3)\n",
            "Requirement already satisfied: charset-normalizer<4,>=2 in /usr/local/lib/python3.11/dist-packages (from requests) (3.4.3)\n",
            "Requirement already satisfied: idna<4,>=2.5 in /usr/local/lib/python3.11/dist-packages (from requests) (3.10)\n",
            "Requirement already satisfied: urllib3<3,>=1.21.1 in /usr/local/lib/python3.11/dist-packages (from requests) (2.5.0)\n",
            "Requirement already satisfied: certifi>=2017.4.17 in /usr/local/lib/python3.11/dist-packages (from requests) (2025.8.3)\n"
          ]
        }
      ],
      "source": [
        "# Install requests for API calls\n",
        "!pip install requests\n"
      ]
    },
    {
      "cell_type": "code",
      "source": [
        "import os\n",
        "import json\n",
        "import requests\n",
        "from google import genai\n",
        "\n",
        "# Load API keys from Colab secrets\n",
        "# GOOGLE_API_KEY is already set in environment variables\n",
        "client = genai.Client()  # automatically uses GOOGLE_API_KEY from os.environ\n",
        "MODEL_ID = \"gemini-2.5-flash-preview-05-20\"\n",
        "SERPER_API_KEY = \"64d6ae585c82b13dbf6085e4ffbbeb499fb4db4d\""
      ],
      "metadata": {
        "colab": {
          "base_uri": "https://localhost:8080/"
        },
        "id": "w1V4hcjqicXA",
        "outputId": "d5b22f82-26db-42fc-c2dd-aaeaee20b190"
      },
      "execution_count": null,
      "outputs": [
        {
          "output_type": "stream",
          "name": "stderr",
          "text": [
            "WARNING:google_genai._api_client:Both GOOGLE_API_KEY and GEMINI_API_KEY are set. Using GOOGLE_API_KEY.\n"
          ]
        }
      ]
    },
    {
      "cell_type": "code",
      "source": [
        "# -----------------------------\n",
        "# Step 1: Gemini API dream interpretation\n",
        "# -----------------------------\n",
        "def interpret_dream_gemini(user_query):\n",
        "    \"\"\"\n",
        "    Sends the dream query to Gemini 2.5 Flash model and returns interpretation.\n",
        "    \"\"\"\n",
        "    try:\n",
        "        response = client.models.generate_content(\n",
        "            model=MODEL_ID,\n",
        "            contents=f\"You are an expert dream interpreter. Explain the meaning of this dream in a shorter way:\\n{user_query}\"\n",
        "        )\n",
        "        return response.text\n",
        "    except Exception as e:\n",
        "        return f\"Error: {e}\"\n"
      ],
      "metadata": {
        "id": "ZiY6drlnL3xM"
      },
      "execution_count": null,
      "outputs": []
    },
    {
      "cell_type": "code",
      "source": [
        "def get_web_insights_serper(user_query, top_k=3):\n",
        "    \"\"\"\n",
        "    Uses Serper API to get top-k related snippets for the dream query.\n",
        "    \"\"\"\n",
        "    try:\n",
        "        url = \"https://google.serper.dev/search\"\n",
        "        headers = {\"X-API-KEY\": SERPER_API_KEY, \"Content-Type\": \"application/json\"}\n",
        "        payload = {\"q\": f\"{user_query} dream meaning\"}\n",
        "        response = requests.post(url, headers=headers, json=payload)\n",
        "        data = response.json()\n",
        "\n",
        "        # Try multiple possible keys for results\n",
        "        results = data.get(\"organic\", []) or data.get(\"organic_results\", []) or data.get(\"items\", [])\n",
        "        snippets = []\n",
        "        for item in results[:top_k]:\n",
        "            # Some items may have \"snippet\" or \"description\"\n",
        "            snippet = item.get(\"snippet\") or item.get(\"description\")\n",
        "            if snippet:\n",
        "                snippets.append(snippet)\n",
        "\n",
        "        if not snippets:\n",
        "            snippets.append(\"No web insights found or API returned empty results.\")\n",
        "\n",
        "        return snippets\n",
        "\n",
        "    except Exception as e:\n",
        "        return [f\"Error fetching web insights: {e}\"]\n"
      ],
      "metadata": {
        "id": "LHfwF_tHMHCC"
      },
      "execution_count": null,
      "outputs": []
    },
    {
      "cell_type": "code",
      "source": [
        "# -----------------------------\n",
        "# Step 3: Merge interpretations\n",
        "# -----------------------------\n",
        "def merge_dream_interpretation(user_query):\n",
        "    \"\"\"\n",
        "    Generates structured JSON output combining Gemini LLM interpretation\n",
        "    and top web insights. make the ultimate interpretation short use only matched point view in a organize way.\n",
        "    do not make the interpretation too long i want short and precise interpretation.\n",
        "    \"\"\"\n",
        "    llm_response = interpret_dream_gemini(user_query)\n",
        "    web_snippets = get_web_insights_serper(user_query)\n",
        "\n",
        "    ultimate_interpretation = f\"{llm_response}\"\n",
        "    if web_snippets:\n",
        "        ultimate_interpretation += \" Merged with key themes from web insights and make it short: \" + \"; \".join(web_snippets)\n",
        "\n",
        "    json_output = {\n",
        "        \"dream_query\": user_query,\n",
        "        \"ai_interpretation\": llm_response,\n",
        "        \"web_insights\": web_snippets,\n",
        "        \"ultimate_interpretation\": ultimate_interpretation\n",
        "    }\n",
        "\n",
        "    try:\n",
        "        print(\"JSON Output:\\n\", json.dumps(json_output, indent=2))\n",
        "    except Exception as e:\n",
        "        print(f\"JSON Encode Error: {e}\")\n",
        "\n",
        "    return json_output"
      ],
      "metadata": {
        "id": "gKC5X4KLMMuy"
      },
      "execution_count": null,
      "outputs": []
    },
    {
      "cell_type": "code",
      "source": [
        "# -----------------------------\n",
        "# Step 4: Example run\n",
        "# -----------------------------\n",
        "user_query = \"I dreamt of flying over the ocean\"\n",
        "dream_result = merge_dream_interpretation(user_query)"
      ],
      "metadata": {
        "colab": {
          "base_uri": "https://localhost:8080/"
        },
        "id": "H_6bmVgwMVeq",
        "outputId": "d3c9361a-e1c4-4627-c8e9-ef6fdf7e6da0"
      },
      "execution_count": null,
      "outputs": [
        {
          "output_type": "stream",
          "name": "stdout",
          "text": [
            "JSON Output:\n",
            " {\n",
            "  \"dream_query\": \"I dreamt of flying over the ocean\",\n",
            "  \"ai_interpretation\": \"This dream signifies a powerful sense of freedom and mastery over your emotions and inner world, offering a new perspective.\",\n",
            "  \"web_insights\": [\n",
            "    \"Dreams about flying over calm, shallow ocean waters often symbolize freedom and emotional clarity. Straight, crossing paths may represent life ...\",\n",
            "    \"I call this an anxiety dream. To float above the earth speaks to a desire to be above the worries that you're currently dealing with. To die in ...\",\n",
            "    \"When water appears in dreams, emotions, feelings, and spirituality are often associated with it. Flying over water may represent cleansing, purity, or even life ...\"\n",
            "  ],\n",
            "  \"ultimate_interpretation\": \"This dream signifies a powerful sense of freedom and mastery over your emotions and inner world, offering a new perspective. Merged with key themes from web insights and make it short: Dreams about flying over calm, shallow ocean waters often symbolize freedom and emotional clarity. Straight, crossing paths may represent life ...; I call this an anxiety dream. To float above the earth speaks to a desire to be above the worries that you're currently dealing with. To die in ...; When water appears in dreams, emotions, feelings, and spirituality are often associated with it. Flying over water may represent cleansing, purity, or even life ...\"\n",
            "}\n"
          ]
        }
      ]
    },
    {
      "cell_type": "code",
      "source": [],
      "metadata": {
        "id": "4-DucjcggGVQ"
      },
      "execution_count": null,
      "outputs": []
    },
    {
      "cell_type": "code",
      "source": [],
      "metadata": {
        "id": "bItCXh4onkoP"
      },
      "execution_count": null,
      "outputs": []
    }
  ]
}